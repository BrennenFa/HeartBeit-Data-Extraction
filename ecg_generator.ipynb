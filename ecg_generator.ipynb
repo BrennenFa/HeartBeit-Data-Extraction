{
 "cells": [
  {
   "cell_type": "code",
   "execution_count": 5,
   "id": "17c67069",
   "metadata": {},
   "outputs": [],
   "source": [
    "import os\n",
    "import glob\n",
    "import wfdb\n",
    "import numpy as np\n",
    "import matplotlib.pyplot as plt\n",
    " "
   ]
  },
  {
   "cell_type": "code",
   "execution_count": null,
   "id": "fb63ce9f",
   "metadata": {},
   "outputs": [
    {
     "name": "stdout",
     "output_type": "stream",
     "text": [
      "success\n"
     ]
    }
   ],
   "source": [
    "# find all data\n",
    "ecg_files = glob.glob('data/**/*.dat', recursive=True)\n",
    "output_dir = 'ecg_images'\n",
    "os.makedirs(output_dir, exist_ok=True)\n",
    "print(\"success\")\n"
   ]
  },
  {
   "cell_type": "code",
   "execution_count": null,
   "id": "836fae69",
   "metadata": {},
   "outputs": [
    {
     "name": "stdout",
     "output_type": "stream",
     "text": [
      "Saved: ecg_images\\40689238_I.png\n",
      "Saved: ecg_images\\40689238_II.png\n",
      "Saved: ecg_images\\40689238_III.png\n",
      "Saved: ecg_images\\40689238_aVR.png\n",
      "Saved: ecg_images\\40689238_aVF.png\n",
      "Saved: ecg_images\\40689238_aVL.png\n",
      "Saved: ecg_images\\40689238_V1.png\n",
      "Saved: ecg_images\\40689238_V2.png\n",
      "Saved: ecg_images\\40689238_V3.png\n",
      "Saved: ecg_images\\40689238_V4.png\n",
      "Saved: ecg_images\\40689238_V5.png\n",
      "Saved: ecg_images\\40689238_V6.png\n"
     ]
    }
   ],
   "source": [
    "# iterate through datat\n",
    "for dat_file in ecg_files:\n",
    "    # base id\n",
    "    base = os.path.splitext(dat_file)[0]\n",
    "\n",
    "    try:\n",
    "        record = wfdb.rdrecord(base)\n",
    "\n",
    "        for i in range(record.n_sig):\n",
    "            lead_name = record.sig_name[i]\n",
    "            signal = record.p_signal[:, i]\n",
    "\n",
    "            # Plot this individual lead\n",
    "            plt.figure(figsize=(12, 3))\n",
    "            plt.plot(signal)\n",
    "            plt.title(f\"ECG Lead: {lead_name} ({os.path.basename(base)})\")\n",
    "            plt.xlabel(\"Samples\")\n",
    "            plt.ylabel(\"Amplitude (mV)\")\n",
    "\n",
    "            # Create a filename based on base name and lead name\n",
    "            img_filename = f\"{os.path.basename(base)}_{lead_name}.png\"\n",
    "            img_path = os.path.join(output_dir, img_filename)\n",
    "            plt.savefig(img_path)\n",
    "            plt.close()\n",
    "            print(f\"Saved: {img_path}\")\n",
    "    except Exception as e:\n",
    "        print(f\"Failed to process {base}: {e}\")\n"
   ]
  }
 ],
 "metadata": {
  "kernelspec": {
   "display_name": "base",
   "language": "python",
   "name": "python3"
  },
  "language_info": {
   "codemirror_mode": {
    "name": "ipython",
    "version": 3
   },
   "file_extension": ".py",
   "mimetype": "text/x-python",
   "name": "python",
   "nbconvert_exporter": "python",
   "pygments_lexer": "ipython3",
   "version": "3.12.4"
  }
 },
 "nbformat": 4,
 "nbformat_minor": 5
}
